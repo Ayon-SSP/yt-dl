{
 "cells": [
  {
   "attachments": {},
   "cell_type": "markdown",
   "metadata": {},
   "source": [
    "## Download YouTube Videos"
   ]
  },
  {
   "cell_type": "code",
   "execution_count": null,
   "metadata": {},
   "outputs": [],
   "source": [
    "from pytube import YouTube\n",
    "\n",
    "url = 'https://youtube.com/watch?v=RGKi6LSPDLU&si=EnSIkaIECMiOmarE' # Replace with your own YouTube video URL\n",
    "\n",
    "yt = YouTube(url)\n",
    "stream = yt.streams.get_highest_resolution()\n",
    "\n",
    "# filepath = 'C:/Users/Username/Videos/myvideo.mp4' # Replace with your own file path and video name\n",
    "filepath = 'myvideo' # Replace with your own file path and video name\n",
    "stream.download(filepath)"
   ]
  },
  {
   "attachments": {},
   "cell_type": "markdown",
   "metadata": {},
   "source": [
    "## Download YouTube Playlist"
   ]
  },
  {
   "cell_type": "code",
   "execution_count": null,
   "metadata": {},
   "outputs": [],
   "source": [
    "from pytube import Playlist, YouTube\n",
    "import os\n",
    "\n",
    "playlist_url = 'https://www.youtube.com/playlist?list=PLELG6cjSRZhKPdmVSs1ziaX35cMja9xr3' # Replace with your own YouTube playlist URL\n",
    "\n",
    "playlist = Playlist(playlist_url)\n",
    "video_urls = playlist.video_urls\n",
    "\n",
    "def download_videos(video_urls, filepath):\n",
    "    if not os.path.exists(filepath):\n",
    "        os.makedirs(filepath)\n",
    "    for url in video_urls:\n",
    "        try:\n",
    "            yt = YouTube(url)\n",
    "            stream = yt.streams.get_highest_resolution()\n",
    "            stream.download(filepath)\n",
    "            print(f\"Video {yt.title} downloaded successfully!\")\n",
    "        except Exception as e:\n",
    "            print(f\"Error downloading video {url}: {e}\")\n",
    "\n",
    "filepath = 'myplaylist' # Replace with your own file path\n",
    "\n",
    "download_videos(video_urls, filepath)"
   ]
  }
 ],
 "metadata": {
  "language_info": {
   "name": "python"
  },
  "orig_nbformat": 4
 },
 "nbformat": 4,
 "nbformat_minor": 2
}
